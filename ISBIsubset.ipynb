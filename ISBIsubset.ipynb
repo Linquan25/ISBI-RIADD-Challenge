{
 "cells": [
  {
   "cell_type": "code",
   "execution_count": 2,
   "source": [
    "from face_alignment.utils import transform\n",
    "from numpy.core.fromnumeric import size\n",
    "from scipy.ndimage.measurements import label\n",
    "from torch.utils.data import DataLoader, Dataset, random_split\n",
    "import pandas as pd\n",
    "import numpy as np\n",
    "import skimage.io as sio\n",
    "from skimage.color import gray2rgb\n",
    "from torchvision import transforms\n",
    "from scipy.stats import stats\n",
    "import torch\n",
    "import os\n",
    "from torchvision.transforms.functional import scale\n",
    "\n",
    "from torchvision.transforms.transforms import RandomResizedCrop, RandomRotation\n",
    "import config"
   ],
   "outputs": [],
   "metadata": {}
  },
  {
   "cell_type": "code",
   "execution_count": 3,
   "source": [
    "from random import random\n",
    "train_df = '../Training_Set/RFMiD_Training_Labels.csv'\n",
    "df = pd.read_csv(train_df, header=0)\n",
    "########## rare subset for training set ###############\n",
    "count = np.zeros((29,))\n",
    "for i in df.values[:]:\n",
    "    for j in range(1,30):\n",
    "        if i[j]==1:\n",
    "            count[j-1]+=1\n",
    "index = np.array(np.where(count<50)).squeeze()\n",
    "index2 = index+1\n",
    "rare = []\n",
    "for i in df.values[:]:\n",
    "    chosen = 0\n",
    "    for j in index2:\n",
    "        if i[j]==1:\n",
    "            rare.append(i)\n",
    "            chosen = 1\n",
    "            break\n",
    "    if chosen == 0 and random()>0.5:\n",
    "        rare.append(i)\n",
    "rare = np.array(rare)\n",
    "rare_df = pd.DataFrame(rare, columns=df.columns)\n",
    "#rare_df.to_csv('fineNet/train_rare.csv', index=False)"
   ],
   "outputs": [],
   "metadata": {}
  },
  {
   "cell_type": "code",
   "execution_count": 6,
   "source": [
    "print(index)\n",
    "hc_id = np.array([1, 2, 4, 5, 8, 13, 17,29])\n",
    "print(hc_id-1)"
   ],
   "outputs": [
    {
     "output_type": "stream",
     "name": "stdout",
     "text": [
      "[ 8  9 10 11 13 14 15 18 19 20 21 22 23 24 25 26 27 28]\n",
      "[ 0  1  3  4  7 12 16 28]\n"
     ]
    }
   ],
   "metadata": {}
  },
  {
   "cell_type": "code",
   "execution_count": 26,
   "source": [
    "pr = 0\n",
    "a = []\n",
    "for i in rare[:]:\n",
    "    n = i[1:].sum()\n",
    "    c = 0\n",
    "    for j in index2:\n",
    "        if i[j]==1:\n",
    "            c+=1\n",
    "    if n-1 == c:\n",
    "       pr +=1\n",
    "       a.append(c)\n",
    "print(len(a))"
   ],
   "outputs": [
    {
     "output_type": "stream",
     "name": "stdout",
     "text": [
      "86\n"
     ]
    }
   ],
   "metadata": {}
  },
  {
   "cell_type": "code",
   "execution_count": 25,
   "source": [
    "########## rare subset for valid set according to training set ###############\n",
    "input_df = '../Evaluation_Set/RFMiD_Validation_Labels.csv'\n",
    "df = pd.read_csv(input_df, header=0)\n",
    "rare = []\n",
    "for i in df.values[:]:\n",
    "    chosen = 0\n",
    "    for j in index2:\n",
    "        if i[j]==1:\n",
    "            rare.append(i)\n",
    "            chosen = 1\n",
    "            break\n",
    "    if chosen == 0 and random()>0.5:\n",
    "        rare.append(i)\n",
    "rare = np.array(rare)\n",
    "print(rare.shape)\n",
    "rare_df = pd.DataFrame(rare, columns=df.columns)\n",
    "rare_df.to_csv('fineNet/valid_rare.csv', index=False)"
   ],
   "outputs": [
    {
     "output_type": "stream",
     "name": "stdout",
     "text": [
      "(388, 30)\n"
     ]
    }
   ],
   "metadata": {}
  },
  {
   "cell_type": "code",
   "execution_count": 24,
   "source": [
    "########## rare subset for valid/testing set according to training set ###############\n",
    "input_df = '../Test_Set/RFMiD_Testing_Labels.csv'\n",
    "df = pd.read_csv(input_df, header=0)\n",
    "rare = []\n",
    "for i in df.values[:]:\n",
    "    chosen = 0\n",
    "    for j in index2:\n",
    "        if i[j]==1:\n",
    "            rare.append(i)\n",
    "            chosen = 1\n",
    "            break\n",
    "    if chosen == 0 and random()>0.5:\n",
    "        rare.append(i)\n",
    "rare = np.array(rare)\n",
    "print(rare.shape)\n",
    "rare_df = pd.DataFrame(rare, columns=df.columns)\n",
    "rare_df.to_csv('fineNet/test_rare.csv', index=False)"
   ],
   "outputs": [
    {
     "output_type": "stream",
     "name": "stdout",
     "text": [
      "(361, 47)\n"
     ]
    }
   ],
   "metadata": {}
  },
  {
   "cell_type": "code",
   "execution_count": 4,
   "source": [
    "########## hard case subset, MH, DN, TSLN, ODC, ODP ###############\n",
    "input_df = '../Training_Set/RFMiD_Training_Labels.csv'\n",
    "df = pd.read_csv(input_df, header=0)\n",
    "hc = []\n",
    "hc_id = [1, 2, 4, 5, 8, 13, 17,29]\n",
    "for i in df.values[:]:\n",
    "    for j in hc_id:\n",
    "        if i[j]==1:\n",
    "            hc.append(i)\n",
    "            break\n",
    "hc = np.array(hc)\n",
    "print(hc.shape)\n",
    "#rare_df = pd.DataFrame(rare, columns=df.columns)\n",
    "#rare_df.to_csv('test_rare.csv', index=False)"
   ],
   "outputs": [
    {
     "output_type": "stream",
     "name": "stdout",
     "text": [
      "(1519, 30)\n"
     ]
    }
   ],
   "metadata": {}
  }
 ],
 "metadata": {
  "orig_nbformat": 4,
  "language_info": {
   "name": "python",
   "version": "3.7.10",
   "mimetype": "text/x-python",
   "codemirror_mode": {
    "name": "ipython",
    "version": 3
   },
   "pygments_lexer": "ipython3",
   "nbconvert_exporter": "python",
   "file_extension": ".py"
  },
  "kernelspec": {
   "name": "python3",
   "display_name": "Python 3.7.10 64-bit ('torch': conda)"
  },
  "interpreter": {
   "hash": "ec949caec1669b5a6f27961e507129f11fe2af4aae34c2ace3af081002d8b917"
  }
 },
 "nbformat": 4,
 "nbformat_minor": 2
}